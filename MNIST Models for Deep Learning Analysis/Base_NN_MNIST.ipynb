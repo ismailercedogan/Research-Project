{
 "cells": [
  {
   "cell_type": "code",
   "execution_count": 1,
   "id": "15ac8594-9093-46e9-bf47-6f60b76be79b",
   "metadata": {},
   "outputs": [],
   "source": [
    "import numpy as np\n",
    "from keras.datasets import mnist"
   ]
  },
  {
   "cell_type": "code",
   "execution_count": 2,
   "id": "778f624b-fd33-45bc-b623-eb6c33909e1b",
   "metadata": {},
   "outputs": [],
   "source": [
    "# with open('fashion_mnist_train.npy', 'rb') as train_data:\n",
    "#     x_train = np.load(train_data)\n",
    "#     y_train = np.load(train_data)\n",
    "\n",
    "# with open ('fashion_mnist_test.npy', 'rb') as test_data:\n",
    "#     x_test = np.load(test_data)\n",
    "#     y_test = np.load(test_data)"
   ]
  },
  {
   "cell_type": "code",
   "execution_count": 3,
   "id": "46754d11-7d4b-41ec-b368-b8bcf0d30cc1",
   "metadata": {},
   "outputs": [],
   "source": [
    "(x_train, y_train), (x_test, y_test) = mnist.load_data()"
   ]
  },
  {
   "cell_type": "code",
   "execution_count": 4,
   "id": "0433106a-5433-4d3b-a862-0d2a7bff9e16",
   "metadata": {},
   "outputs": [
    {
     "data": {
      "text/plain": [
       "(60000, 28, 28)"
      ]
     },
     "execution_count": 4,
     "metadata": {},
     "output_type": "execute_result"
    }
   ],
   "source": [
    "x_train.shape"
   ]
  },
  {
   "cell_type": "code",
   "execution_count": 5,
   "id": "112f561f-6233-4b3a-ab0c-69f8825b34fc",
   "metadata": {},
   "outputs": [
    {
     "data": {
      "text/plain": [
       "(60000,)"
      ]
     },
     "execution_count": 5,
     "metadata": {},
     "output_type": "execute_result"
    }
   ],
   "source": [
    "y_train.shape"
   ]
  },
  {
   "cell_type": "code",
   "execution_count": 6,
   "id": "7ca68751-7126-47f2-90dd-ba3c8c977385",
   "metadata": {},
   "outputs": [
    {
     "data": {
      "text/plain": [
       "(10000, 28, 28)"
      ]
     },
     "execution_count": 6,
     "metadata": {},
     "output_type": "execute_result"
    }
   ],
   "source": [
    "x_test.shape"
   ]
  },
  {
   "cell_type": "code",
   "execution_count": 7,
   "id": "7c205dbc-4326-40f8-8791-a807c1aa0a8b",
   "metadata": {},
   "outputs": [
    {
     "data": {
      "text/plain": [
       "(10000,)"
      ]
     },
     "execution_count": 7,
     "metadata": {},
     "output_type": "execute_result"
    }
   ],
   "source": [
    "y_test.shape"
   ]
  },
  {
   "cell_type": "code",
   "execution_count": 8,
   "id": "5d85d734-a775-4b7e-ba5d-f09abee67489",
   "metadata": {},
   "outputs": [],
   "source": [
    "x_train = x_train[:10000]\n",
    "y_train = y_train[:10000]\n",
    "\n",
    "x_test = x_test[:10000]\n",
    "y_test = y_test[:10000]"
   ]
  },
  {
   "cell_type": "code",
   "execution_count": 9,
   "id": "b053385e-8bed-48dd-88ff-7118444e8103",
   "metadata": {},
   "outputs": [],
   "source": [
    "x_train = x_train.reshape(x_train.shape[0], -1) / 255.0"
   ]
  },
  {
   "cell_type": "code",
   "execution_count": 10,
   "id": "2a67fe8b-916d-467d-9cd6-c9aa1cbcb028",
   "metadata": {},
   "outputs": [],
   "source": [
    "x_test = x_test.reshape(x_test.shape[0],-1) / 255.0"
   ]
  },
  {
   "cell_type": "code",
   "execution_count": null,
   "id": "507fa346-93f2-418d-aca9-35fe995037aa",
   "metadata": {},
   "outputs": [],
   "source": []
  },
  {
   "cell_type": "code",
   "execution_count": 11,
   "id": "a7768614-eee7-4662-a1ff-b98fbbf71904",
   "metadata": {},
   "outputs": [],
   "source": [
    "from keras.utils import to_categorical\n",
    "\n",
    "y_train = to_categorical(y_train)\n",
    "y_test = to_categorical(y_test)\n"
   ]
  },
  {
   "cell_type": "code",
   "execution_count": 12,
   "id": "203ac093-66f8-45ab-b79e-595686dbda65",
   "metadata": {},
   "outputs": [],
   "source": [
    "class NN:\n",
    "    def __init__(self, input_neurons, hidden_neurons, output_neurons, lr, e):\n",
    "        self.input_neurons = input_neurons\n",
    "        self.hidden_neurons = hidden_neurons\n",
    "        self.output_neurons = output_neurons\n",
    "        self.e = e\n",
    "\n",
    "        #links of weights from input to hidden neurons\n",
    "        self.wih = np.random.normal(0.0, pow(self.input_neurons, -0.5), (self.hidden_neurons, self.input_neurons))\n",
    "        self.bih = 0\n",
    "        \n",
    "        #links of weights from hidden to output neurons\n",
    "        self.who = np.random.normal(0.0, pow(self.hidden_neurons, -0.5),(self.output_neurons, self.hidden_neurons))\n",
    "        self.bho = 0\n",
    "\n",
    "        self.lr = lr\n",
    "    def activation(self, z):\n",
    "        z = np.clip(z,-500,500)\n",
    "        return 1 / (1 + np.exp (-z)) #sigmoid\n",
    "        #return (np.exp(z)-np.exp(-z))/(np.exp(z)+np.exp(-z)) #tanh\n",
    "\n",
    "    def activation_derivative(self,z):\n",
    "        return self.activation(z) * (1 - self.activation(z)) #sigmoid\n",
    "        #return 1-self.activation(z)**2 #tanh\n",
    "        \n",
    "    def forward(self, input_list):\n",
    "        inputs = np.array(input_list, ndmin = 2).T\n",
    "        #passing inputs to hidden layer\n",
    "        hidden_inputs = np.dot(self.wih,inputs) + self.bih\n",
    "        #getting outputs from hidden layer\n",
    "        hidden_outputs = self.activation(hidden_inputs)\n",
    "        #passing outputs of hidden layer to output layer as input\n",
    "        output_inputs = np.dot(self.who, hidden_outputs) + self.bho\n",
    "        #getting ouputs from the output layer\n",
    "        output_outputs = self.activation(output_inputs)\n",
    "\n",
    "        return output_outputs\n",
    "\n",
    "    def backprop(self, inputs_list, targets_list):\n",
    "        inputs = np.array(inputs_list,ndmin = 2).T\n",
    "        tj = np.array(targets_list, ndmin = 2).T\n",
    "        #passing inputs to hidden layer\n",
    "        hidden_inputs = np.dot(self.wih, inputs) + self.bih\n",
    "        #getting outputs from hidden layer\n",
    "        hidden_outputs = self.activation(hidden_inputs)\n",
    "        #passing inputs from hidden layer outputs to output layer\n",
    "        output_inputs = np.dot(self.who, hidden_outputs) + self.bho\n",
    "        #getting output from the output layer\n",
    "        yj = self.activation(output_inputs)\n",
    "        #finding the errors from the output layer\n",
    "        output_errors = -(tj - yj)\n",
    "        #finding the errors in the hidden layer\n",
    "        hidden_errors = np.dot(self.who.T, output_errors)\n",
    "\n",
    "        # #updating the weights using Gradient Desctent\n",
    "        # self.who -= self.lr * np.dot(self.activation_derivative(output_inputs), np.transpose(hidden_outputs))\n",
    "        # #self.wih -= self.lr * np.dot(np.dot(self.who.T,(self.activation_derivative(output_inputs)*(np.dot(self.who,self.activation_derivative(hidden_inputs)))),np.transpose(inputs))\n",
    "        # self.wih -= self.lr * np.dot((self.activation_derivative(hidden_inputs)* np.dot(self.who.T, self.activation_derivative(output_inputs))), np.transpose(inputs))\n",
    "        # self.bho -= self.lr * (self.activation_derivative(output_inputs))\n",
    "        # self.bih -= self.lr * np.dot(self.who.T, self.activation_derivative(output_inputs))* self.activation_derivative(hidden_inputs)\n",
    "        \n",
    "        self.who -= self.lr * np.dot((output_errors * self.activation_derivative(yj)), np.transpose(hidden_outputs))\n",
    "        self.wih -= self.lr * np.dot((hidden_errors * self.activation_derivative(hidden_outputs)), np.transpose(inputs))\n",
    "\n",
    "\n",
    "        #updating bias\n",
    "        self.bho -= self.lr * (output_errors * self.activation_derivative(yj))\n",
    "        self.bih -= self.lr * (hidden_errors * self.activation_derivative(hidden_outputs))\n",
    "        \n",
    "        pass\n",
    "        \n",
    "    def fit(self, inputs_list, targets_list):\n",
    "        for e in range(self.e):\n",
    "            self.backprop(inputs_list, targets_list)\n",
    "            print(f\"Epoch{e}/{self.e}completed.\")\n",
    "\n",
    "    def predict(self, X):\n",
    "        outputs = self.forward(X).T\n",
    "        return outputs"
   ]
  },
  {
   "cell_type": "code",
   "execution_count": 13,
   "id": "162c78f3-9e21-43a9-a945-edc0822dd72a",
   "metadata": {},
   "outputs": [],
   "source": [
    "nn = NN(input_neurons=784, hidden_neurons= 184, output_neurons=10, lr=0.01, e= 100)"
   ]
  },
  {
   "cell_type": "code",
   "execution_count": 14,
   "id": "39f97e3d-43a7-43bf-a224-54e9578f1c84",
   "metadata": {},
   "outputs": [
    {
     "name": "stdout",
     "output_type": "stream",
     "text": [
      "Epoch0/100completed.\n",
      "Epoch1/100completed.\n",
      "Epoch2/100completed.\n",
      "Epoch3/100completed.\n",
      "Epoch4/100completed.\n",
      "Epoch5/100completed.\n",
      "Epoch6/100completed.\n",
      "Epoch7/100completed.\n",
      "Epoch8/100completed.\n",
      "Epoch9/100completed.\n",
      "Epoch10/100completed.\n",
      "Epoch11/100completed.\n",
      "Epoch12/100completed.\n",
      "Epoch13/100completed.\n",
      "Epoch14/100completed.\n",
      "Epoch15/100completed.\n",
      "Epoch16/100completed.\n",
      "Epoch17/100completed.\n",
      "Epoch18/100completed.\n",
      "Epoch19/100completed.\n",
      "Epoch20/100completed.\n",
      "Epoch21/100completed.\n",
      "Epoch22/100completed.\n",
      "Epoch23/100completed.\n",
      "Epoch24/100completed.\n",
      "Epoch25/100completed.\n",
      "Epoch26/100completed.\n",
      "Epoch27/100completed.\n",
      "Epoch28/100completed.\n",
      "Epoch29/100completed.\n",
      "Epoch30/100completed.\n",
      "Epoch31/100completed.\n",
      "Epoch32/100completed.\n",
      "Epoch33/100completed.\n",
      "Epoch34/100completed.\n",
      "Epoch35/100completed.\n",
      "Epoch36/100completed.\n",
      "Epoch37/100completed.\n",
      "Epoch38/100completed.\n",
      "Epoch39/100completed.\n",
      "Epoch40/100completed.\n",
      "Epoch41/100completed.\n",
      "Epoch42/100completed.\n",
      "Epoch43/100completed.\n",
      "Epoch44/100completed.\n",
      "Epoch45/100completed.\n",
      "Epoch46/100completed.\n",
      "Epoch47/100completed.\n",
      "Epoch48/100completed.\n",
      "Epoch49/100completed.\n",
      "Epoch50/100completed.\n",
      "Epoch51/100completed.\n",
      "Epoch52/100completed.\n",
      "Epoch53/100completed.\n",
      "Epoch54/100completed.\n",
      "Epoch55/100completed.\n",
      "Epoch56/100completed.\n",
      "Epoch57/100completed.\n",
      "Epoch58/100completed.\n",
      "Epoch59/100completed.\n",
      "Epoch60/100completed.\n",
      "Epoch61/100completed.\n",
      "Epoch62/100completed.\n",
      "Epoch63/100completed.\n",
      "Epoch64/100completed.\n",
      "Epoch65/100completed.\n",
      "Epoch66/100completed.\n",
      "Epoch67/100completed.\n",
      "Epoch68/100completed.\n",
      "Epoch69/100completed.\n",
      "Epoch70/100completed.\n",
      "Epoch71/100completed.\n",
      "Epoch72/100completed.\n",
      "Epoch73/100completed.\n",
      "Epoch74/100completed.\n",
      "Epoch75/100completed.\n",
      "Epoch76/100completed.\n",
      "Epoch77/100completed.\n",
      "Epoch78/100completed.\n",
      "Epoch79/100completed.\n",
      "Epoch80/100completed.\n",
      "Epoch81/100completed.\n",
      "Epoch82/100completed.\n",
      "Epoch83/100completed.\n",
      "Epoch84/100completed.\n",
      "Epoch85/100completed.\n",
      "Epoch86/100completed.\n",
      "Epoch87/100completed.\n",
      "Epoch88/100completed.\n",
      "Epoch89/100completed.\n",
      "Epoch90/100completed.\n",
      "Epoch91/100completed.\n",
      "Epoch92/100completed.\n",
      "Epoch93/100completed.\n",
      "Epoch94/100completed.\n",
      "Epoch95/100completed.\n",
      "Epoch96/100completed.\n",
      "Epoch97/100completed.\n",
      "Epoch98/100completed.\n",
      "Epoch99/100completed.\n"
     ]
    }
   ],
   "source": [
    "nn.fit(x_train, y_train)"
   ]
  },
  {
   "cell_type": "code",
   "execution_count": 15,
   "id": "5b9c1be4-17d9-4ece-892b-788c358f7ad3",
   "metadata": {},
   "outputs": [],
   "source": [
    "probs = nn.predict(x_test)\n",
    "\n",
    "predictions = []\n",
    "\n",
    "for prob in probs:\n",
    "    max_idx = np.argmax(prob)\n",
    "    prediction = np.zeros_like(prob)\n",
    "    prediction[max_idx] = 1\n",
    "    predictions.append(prediction)"
   ]
  },
  {
   "cell_type": "code",
   "execution_count": 16,
   "id": "65a3c5d1-94c0-49e8-a871-47be83462baf",
   "metadata": {},
   "outputs": [
    {
     "name": "stdout",
     "output_type": "stream",
     "text": [
      "Accuracy:  0.7835\n",
      "CR:                precision    recall  f1-score   support\n",
      "\n",
      "           0       0.83      0.93      0.88       870\n",
      "           1       0.92      0.97      0.94      1078\n",
      "           2       0.80      0.84      0.82       985\n",
      "           3       0.77      0.81      0.79       962\n",
      "           4       0.50      0.83      0.62       588\n",
      "           5       0.84      0.54      0.66      1402\n",
      "           6       0.79      0.92      0.85       831\n",
      "           7       0.77      0.94      0.85       850\n",
      "           8       0.73      0.74      0.74       959\n",
      "           9       0.85      0.58      0.69      1475\n",
      "\n",
      "   micro avg       0.78      0.78      0.78     10000\n",
      "   macro avg       0.78      0.81      0.78     10000\n",
      "weighted avg       0.80      0.78      0.78     10000\n",
      " samples avg       0.78      0.78      0.78     10000\n",
      "\n"
     ]
    }
   ],
   "source": [
    "from sklearn.metrics import accuracy_score\n",
    "from sklearn.metrics import classification_report\n",
    "\n",
    "print(\"Accuracy: \", accuracy_score(predictions, y_test))\n",
    "print(\"CR: \", classification_report(predictions, y_test))"
   ]
  },
  {
   "cell_type": "code",
   "execution_count": 17,
   "id": "e1723cf3-bc70-4a78-9ddc-92f8bae18a84",
   "metadata": {},
   "outputs": [
    {
     "name": "stdout",
     "output_type": "stream",
     "text": [
      "WARNING:tensorflow:From C:\\Users\\ismai\\AppData\\Local\\Temp\\ipykernel_14280\\2440870902.py:2: is_gpu_available (from tensorflow.python.framework.test_util) is deprecated and will be removed in a future version.\n",
      "Instructions for updating:\n",
      "Use `tf.config.list_physical_devices('GPU')` instead.\n",
      "GPU Available:  False\n"
     ]
    }
   ],
   "source": [
    "import tensorflow as tf\n",
    "print(\"GPU Available: \", tf.test.is_gpu_available())"
   ]
  },
  {
   "cell_type": "code",
   "execution_count": null,
   "id": "9ab61f29-2232-490a-8894-17cadd48c3a5",
   "metadata": {},
   "outputs": [],
   "source": []
  },
  {
   "cell_type": "code",
   "execution_count": 18,
   "id": "6278c841-8015-4885-a96e-40c36bec8594",
   "metadata": {},
   "outputs": [
    {
     "name": "stdout",
     "output_type": "stream",
     "text": [
      "Python 3.11.3\n"
     ]
    }
   ],
   "source": []
  },
  {
   "cell_type": "code",
   "execution_count": null,
   "id": "21820df3-e89a-4ccc-ac71-cd6e893a717d",
   "metadata": {},
   "outputs": [],
   "source": []
  }
 ],
 "metadata": {
  "kernelspec": {
   "display_name": "Python 3 (ipykernel)",
   "language": "python",
   "name": "python3"
  },
  "language_info": {
   "codemirror_mode": {
    "name": "ipython",
    "version": 3
   },
   "file_extension": ".py",
   "mimetype": "text/x-python",
   "name": "python",
   "nbconvert_exporter": "python",
   "pygments_lexer": "ipython3",
   "version": "3.11.5"
  }
 },
 "nbformat": 4,
 "nbformat_minor": 5
}
