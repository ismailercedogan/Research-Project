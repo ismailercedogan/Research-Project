{
 "cells": [
  {
   "cell_type": "code",
   "execution_count": 1,
   "id": "564f6c7d-6c7d-4887-a0a0-5b227d94d781",
   "metadata": {},
   "outputs": [],
   "source": [
    "import torch\n",
    "import torch.nn as nn\n",
    "import torch.nn.functional as F\n",
    "from torchvision import datasets, transforms\n",
    "import torch.optim as optim\n",
    "from torch.utils.data import DataLoader\n",
    "import matplotlib.pyplot as plt"
   ]
  },
  {
   "cell_type": "code",
   "execution_count": 2,
   "id": "ed15e876-6bf2-4cb0-9a40-5393f5644ce2",
   "metadata": {},
   "outputs": [],
   "source": [
    "device = torch.device(\"cuda:0\" if torch.cuda.is_available() else \"cpu\")"
   ]
  },
  {
   "cell_type": "code",
   "execution_count": 3,
   "id": "d22adb60-ae5b-437c-9b12-872f51eab1c2",
   "metadata": {},
   "outputs": [],
   "source": [
    "transform = transforms.Compose([transforms.Resize((32, 32)), transforms.ToTensor(), transforms.Normalize((0.5,), (0.5,))])\n",
    "train_data = datasets.MNIST(root='~/pytorch_data', train=True, download=True, transform=transform)\n",
    "test_data = datasets.MNIST(root='~/pytorch_data', train=False, download=True, transform=transform)\n",
    "\n",
    "train_loader = torch.utils.data.DataLoader(train_data, batch_size=128, shuffle=True)\n",
    "test_loader = torch.utils.data.DataLoader(test_data, batch_size=128, shuffle=False)\n"
   ]
  },
  {
   "cell_type": "code",
   "execution_count": 4,
   "id": "6a839404-0b5f-4213-9ba5-600fd72dffb9",
   "metadata": {},
   "outputs": [
    {
     "name": "stdout",
     "output_type": "stream",
     "text": [
      "Shape of a batch of data samples: torch.Size([128, 1, 32, 32])\n",
      "Shape of a batch of labels: torch.Size([128])\n"
     ]
    }
   ],
   "source": [
    "for batch_data, batch_labels in train_loader:\n",
    "    print(\"Shape of a batch of data samples:\", batch_data.shape)\n",
    "    print(\"Shape of a batch of labels:\", batch_labels.shape)\n",
    "    break "
   ]
  },
  {
   "cell_type": "code",
   "execution_count": 5,
   "id": "dcf024b4-12bd-4b07-b5e2-fd1320a22a50",
   "metadata": {},
   "outputs": [],
   "source": [
    "class UNet(nn.Module):\n",
    "    def __init__(self):\n",
    "        super(UNet, self).__init__()\n",
    "        # Encoder\n",
    "        self.conv1 = nn.Conv2d(1, 64, kernel_size=3, padding=1)\n",
    "        self.conv2 = nn.Conv2d(64, 128, kernel_size=3, padding=1)\n",
    "        self.conv3 = nn.Conv2d(128, 256, kernel_size=3, padding=1)\n",
    "        self.pool = nn.MaxPool2d(kernel_size=2, stride=2)\n",
    "\n",
    "        #Decoder\n",
    "        self.upconv1 = nn.ConvTranspose2d(256, 128, kernel_size=2, stride=2)\n",
    "        self.conv4 = nn.Conv2d(256, 128, kernel_size=3, padding=1)\n",
    "        self.upconv2 = nn.ConvTranspose2d(128, 64, kernel_size=2, stride=2)\n",
    "        self.conv5 = nn.Conv2d(128, 64, kernel_size=3, padding=1)\n",
    "        self.upconv3 = nn.ConvTranspose2d(64, 32, kernel_size=2, stride=2)\n",
    "        self.conv6 = nn.Conv2d(96, 32, kernel_size=3, padding=1)\n",
    "\n",
    "        # Output\n",
    "        self.outconv = nn.Conv2d(32, 10, kernel_size=1) # The layer is essentially used to align the depth of the feature maps with the number of classes in the dataset. Each of the 10 output channels can be thought of as a 'score map' for one of the 10 classes.\n",
    "        self.outdense = nn.Linear(10*32*32, 10)        \n",
    "    def forward(self, x):\n",
    "        # Encoder\n",
    "        down1 = F.relu(self.conv1(x))\n",
    "        down1p = self.pool(down1) \n",
    "        down2 = F.relu(self.conv2(down1p)) \n",
    "        down2p = self.pool(down2) \n",
    "        down3 = F.relu(self.conv3(down2p))\n",
    "        down3p = self.pool(down3)  \n",
    "        \n",
    "        # Decoder\n",
    "        up1 = F.relu(self.upconv1(down3p))\n",
    "        up1 = torch.cat([up1,down2p], dim=1)\n",
    "        up1 = F.relu(self.conv4(up1))\n",
    "        up2 = F.relu(self.upconv2(up1))\n",
    "        up2 = torch.cat([up2,down1p], dim=1)\n",
    "        up2 = F.relu(self.conv5(up2))\n",
    "        up3 = F.relu(self.upconv3(up2))\n",
    "        up3 = torch.cat([up3,down1],dim=1)\n",
    "        up3 = F.relu(self.conv6(up3))\n",
    "\n",
    "        #Output\n",
    "\n",
    "        outputs = F.relu(self.outconv(up3))\n",
    "        outputs = outputs.view(outputs.size(0),-1)\n",
    "        outputs = self.outdense(outputs)\n",
    "        #return F.softmax(outputs, dim=1)\n",
    "        return outputs"
   ]
  },
  {
   "cell_type": "code",
   "execution_count": 6,
   "id": "2b01648b-e68f-4e4e-a778-30329c36fae7",
   "metadata": {},
   "outputs": [
    {
     "data": {
      "text/plain": [
       "UNet(\n",
       "  (conv1): Conv2d(1, 64, kernel_size=(3, 3), stride=(1, 1), padding=(1, 1))\n",
       "  (conv2): Conv2d(64, 128, kernel_size=(3, 3), stride=(1, 1), padding=(1, 1))\n",
       "  (conv3): Conv2d(128, 256, kernel_size=(3, 3), stride=(1, 1), padding=(1, 1))\n",
       "  (pool): MaxPool2d(kernel_size=2, stride=2, padding=0, dilation=1, ceil_mode=False)\n",
       "  (upconv1): ConvTranspose2d(256, 128, kernel_size=(2, 2), stride=(2, 2))\n",
       "  (conv4): Conv2d(256, 128, kernel_size=(3, 3), stride=(1, 1), padding=(1, 1))\n",
       "  (upconv2): ConvTranspose2d(128, 64, kernel_size=(2, 2), stride=(2, 2))\n",
       "  (conv5): Conv2d(128, 64, kernel_size=(3, 3), stride=(1, 1), padding=(1, 1))\n",
       "  (upconv3): ConvTranspose2d(64, 32, kernel_size=(2, 2), stride=(2, 2))\n",
       "  (conv6): Conv2d(96, 32, kernel_size=(3, 3), stride=(1, 1), padding=(1, 1))\n",
       "  (outconv): Conv2d(32, 10, kernel_size=(1, 1), stride=(1, 1))\n",
       "  (outdense): Linear(in_features=10240, out_features=10, bias=True)\n",
       ")"
      ]
     },
     "execution_count": 6,
     "metadata": {},
     "output_type": "execute_result"
    }
   ],
   "source": [
    "model = UNet()\n",
    "model.to(device)"
   ]
  },
  {
   "cell_type": "code",
   "execution_count": 7,
   "id": "430f2646-027f-469f-a45d-0e90d20c869b",
   "metadata": {},
   "outputs": [],
   "source": [
    "criterion = nn.CrossEntropyLoss()\n",
    "optimizer = torch.optim.Adam(model.parameters(), lr=0.001)\n",
    "epochs = 10"
   ]
  },
  {
   "cell_type": "code",
   "execution_count": 8,
   "id": "6f8d63e6-ea02-4332-b99f-d4df62a6dbba",
   "metadata": {
    "scrolled": true
   },
   "outputs": [
    {
     "name": "stdout",
     "output_type": "stream",
     "text": [
      "Epoch [1/10], Loss: 0.0017\n",
      "Epoch [2/10], Loss: 0.0005\n",
      "Epoch [3/10], Loss: 0.0003\n",
      "Epoch [4/10], Loss: 0.0002\n",
      "Epoch [5/10], Loss: 0.0002\n",
      "Epoch [6/10], Loss: 0.0001\n",
      "Epoch [7/10], Loss: 0.0001\n",
      "Epoch [8/10], Loss: 0.0001\n",
      "Epoch [9/10], Loss: 0.0001\n",
      "Epoch [10/10], Loss: 0.0001\n"
     ]
    }
   ],
   "source": [
    "model.train()\n",
    "for epoch in range(epochs):\n",
    "    running_loss = 0.0\n",
    "    for images, labels in train_loader:\n",
    "        images, labels = images.to(device), labels.to(device)\n",
    "        optimizer.zero_grad()\n",
    "        outputs = model(images)\n",
    "        loss = criterion(outputs, labels)\n",
    "        loss.backward()\n",
    "        optimizer.step()\n",
    "        running_loss += loss.item()\n",
    "    epoch_loss = running_loss / len(train_loader.dataset)\n",
    "    print(f'Epoch [{epoch+1}/{epochs}], Loss: {epoch_loss:.4f}')"
   ]
  },
  {
   "cell_type": "code",
   "execution_count": 9,
   "id": "54d48aa6-8d87-471f-b3ab-958ef97d3b95",
   "metadata": {},
   "outputs": [
    {
     "name": "stdout",
     "output_type": "stream",
     "text": [
      "Test Accuracy: 98.76%\n"
     ]
    }
   ],
   "source": [
    "model.eval()\n",
    "correct = 0\n",
    "total = 0\n",
    "with torch.no_grad():\n",
    "    for images, labels in test_loader:\n",
    "        images, labels = images.to(device), labels.to(device)\n",
    "        outputs = model(images)\n",
    "        _, predicted = torch.max(outputs.data, 1)\n",
    "        total += labels.size(0)\n",
    "        correct += (predicted == labels).sum().item()\n",
    "\n",
    "print(f'Test Accuracy: {100 * correct / total}%')"
   ]
  },
  {
   "cell_type": "code",
   "execution_count": 18,
   "id": "ce8b0a96-cbd9-4625-93f0-6959101c1ce0",
   "metadata": {},
   "outputs": [
    {
     "name": "stdout",
     "output_type": "stream",
     "text": [
      "Predicted: 4, Actual: 4\n"
     ]
    },
    {
     "data": {
      "image/png": "[encoded data removed]",
      "text/plain": [
       "<Figure size 640x480 with 1 Axes>"
      ]
     },
     "metadata": {},
     "output_type": "display_data"
    }
   ],
   "source": [
    "img, label = test_data[6]\n",
    "transform = transforms.Compose([transforms.Resize((32, 32)), transforms.ToTensor()])\n",
    "if not isinstance(img, torch.Tensor):\n",
    "    img = transform(img)\n",
    "\n",
    "img = img.unsqueeze(0).to(device)\n",
    "\n",
    "with torch.no_grad():\n",
    "    output = model(img)\n",
    "    _, predicted = torch.max(output.data, 1)\n",
    "\n",
    "print(f\"Predicted: {predicted.item()}, Actual: {label}\")\n",
    "\n",
    "\n",
    "if isinstance(img, torch.Tensor):\n",
    "    img = img.squeeze().cpu().numpy()\n",
    "else:\n",
    "    img = np.array(img)\n",
    "\n",
    "\n",
    "plt.imshow(img, cmap='gray')\n",
    "plt.title(f\"Predicted: {predicted.item()}, Label: {label}\")\n",
    "plt.tight_layout()\n",
    "plt.show()"
   ]
  },
  {
   "cell_type": "code",
   "execution_count": null,
   "id": "a74d8d6e-3f48-4fa0-bed4-ec66785a0eb7",
   "metadata": {},
   "outputs": [],
   "source": []
  },
  {
   "cell_type": "code",
   "execution_count": null,
   "id": "5fd1353a-0419-422b-810d-32e6d212a047",
   "metadata": {},
   "outputs": [],
   "source": []
  }
 ],
 "metadata": {
  "kernelspec": {
   "display_name": "Python 3 (ipykernel)",
   "language": "python",
   "name": "python3"
  },
  "language_info": {
   "codemirror_mode": {
    "name": "ipython",
    "version": 3
   },
   "file_extension": ".py",
   "mimetype": "text/x-python",
   "name": "python",
   "nbconvert_exporter": "python",
   "pygments_lexer": "ipython3",
   "version": "3.11.5"
  }
 },
 "nbformat": 4,
 "nbformat_minor": 5
}
